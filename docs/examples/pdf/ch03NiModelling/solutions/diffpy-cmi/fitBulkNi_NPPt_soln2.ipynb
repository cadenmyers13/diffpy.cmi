{
 "cells": [
  {
   "cell_type": "markdown",
   "id": "0",
   "metadata": {},
   "source": [
    "# Jupyter notebook solution for Chp. 3\n",
    "\n",
    "This notebook contains a second solution to the problem that makes use of helper functions. It shows how helper functions can be defined then used to speed up the creation of scripts. It also gives a template using the Jupyter Notebook format. \n",
    "\n",
    "## Running the notebook\n",
    "Make sure you have your virtual environment with diffpy activated. You will have to manually add a kernel for this virtual environment. You can install ipykernel which provides the IPython kernel for Jupyter:"
   ]
  },
  {
   "cell_type": "raw",
   "id": "1",
   "metadata": {},
   "source": [
    "conda activate <my_environment_name>\n",
    "pip install --user ipykernel\n",
    "python -m ipykernel install --user --name=<my_environment_name>"
   ]
  },
  {
   "cell_type": "markdown",
   "id": "2",
   "metadata": {},
   "source": [
    "You will now be able to select the new kernel and run the notebook. "
   ]
  },
  {
   "cell_type": "markdown",
   "id": "3",
   "metadata": {},
   "source": [
    "## Import the relevant packages"
   ]
  },
  {
   "cell_type": "code",
   "execution_count": null,
   "id": "4",
   "metadata": {},
   "outputs": [],
   "source": [
    "from pathlib import Path\n",
    "import matplotlib as mpl\n",
    "import matplotlib.pyplot as plt\n",
    "import numpy as np\n",
    "from scipy.optimize import least_squares\n",
    "import typing\n",
    "\n",
    "from diffpy.utils.parsers.loaddata import loadData\n",
    "from diffpy.srfit.fitbase import FitRecipe, FitContribution, Profile, FitResults\n",
    "from diffpy.srfit.pdf import PDFGenerator, PDFParser\n",
    "from diffpy.srfit.fitbase.parameterset import ParameterSet\n",
    "from pyobjcryst import loadCrystal\n",
    "from pyobjcryst.crystal import Crystal\n",
    "\n",
    "#We import the form factors. We will use this to fit the Pt nanoparticles as spherical particles.\n",
    "import diffpy.srfit.pdf.characteristicfunctions\n",
    "F = diffpy.srfit.pdf.characteristicfunctions"
   ]
  },
  {
   "cell_type": "markdown",
   "id": "5",
   "metadata": {},
   "source": [
    "## Define helper functions\n",
    "\n",
    "\"Songsheng's helper functions are used, in the tutorial it is mentioned that the helper functions would be published soon - How should these be cited/referenced currently?\"\\\n",
    "\"Where can the original code be found? We should write this\"\n",
    "\n",
    "\n",
    "Normally these helper functions will not need to be modified and you can use them as is, but to solve some of the specific problems in the PDFttp book we will make small changes and additions to the recipe functions. The changes we have made will be highlighted in the code. \n",
    "\n",
    "\n",
    "### Create Recipe\n",
    "\n",
    "Here a helper function is defined that creates a FitContribution and FitRecipe, taking the data and structure files as input. \\\n",
    "Because we want to refine the calibrant and determine instrumental parameters, qdamp and qbroad are added as parameters to our recipe under _add_params_in_pg."
   ]
  },
  {
   "cell_type": "code",
   "execution_count": null,
   "id": "6",
   "metadata": {},
   "outputs": [],
   "source": [
    "def _create_recipe(\n",
    "        equation: str,\n",
    "        crystals: typing.Dict[str, Crystal],\n",
    "        functions: typing.Dict[str, typing.Tuple[typing.Callable, typing.List[str]]],\n",
    "        profile: Profile,\n",
    "        fc_name: str = \"PDF\"\n",
    ") -> FitRecipe:\n",
    "    \"\"\"Create the FitRecipe object.\n",
    "\n",
    "    Parameters\n",
    "    ----------\n",
    "    equation :\n",
    "        The equation of G(r).\n",
    "    crystals :\n",
    "        A mapping from the name of variable in the equation to the crystal structure for PDF calculation.\n",
    "    functions :\n",
    "        A mapping from the name of variable in the equation to the python function for PDF calculation.\n",
    "        The first argument of the function is the array of r, the other arguments are the parameters.\n",
    "    profile :\n",
    "        The data profile that contains both the metadata and the data.\n",
    "    fc_name :\n",
    "        The name of the FitContribution in the FitRecipe. Default \"PDF\".\n",
    "\n",
    "    Returns\n",
    "    -------\n",
    "    A FitRecipe object.\n",
    "    \"\"\"\n",
    "    fr = FitRecipe()\n",
    "    fc = FitContribution(fc_name)\n",
    "    for name, crystal in crystals.items():\n",
    "        pg = PDFGenerator(name)\n",
    "        pg.setStructure(crystal, periodic=True)\n",
    "        fc.addProfileGenerator(pg)\n",
    "    for name, (f, argnames) in functions.items():\n",
    "        fc.registerFunction(f, name=name, argnames=argnames)\n",
    "    fc.setEquation(equation)\n",
    "    fc.setProfile(profile, xname=\"r\", yname=\"G\", dyname=\"dG\")\n",
    "    fr.addContribution(fc)\n",
    "    return fr\n",
    "\n",
    "\n",
    "def _get_tags(phase: str, param: str) -> typing.List[str]:\n",
    "    \"\"\"Get the tag names.\n",
    "\n",
    "    Parameters\n",
    "    ----------\n",
    "    phase\n",
    "    param\n",
    "\n",
    "    Returns\n",
    "    -------\n",
    "\n",
    "    \"\"\"\n",
    "    return [param, phase, \"{}_{}\".format(phase, param)]\n",
    "\n",
    "\n",
    "def _get_name(*args: str) -> str:\n",
    "    \"\"\"Get the name of the variable.\n",
    "\n",
    "    Parameters\n",
    "    ----------\n",
    "    args\n",
    "\n",
    "    Returns\n",
    "    -------\n",
    "\n",
    "    \"\"\"\n",
    "    return \"_\".join(args)\n",
    "\n",
    "\n",
    "def _rename_par(name: str, atoms: list) -> str:\n",
    "    \"\"\"Rename of the name of a parameter by replacing the index of the atom in the name by the label of\n",
    "    the atom and revert the order of coordinates and atom name.\n",
    "\n",
    "    Used for the space group constrained parameters. For example, \"x_0\" where atom index 0 is Ni will become\n",
    "    \"Ni0_x\" after renamed. If the name can not renamed, return the original name.\n",
    "\n",
    "    Parameters\n",
    "    ----------\n",
    "    name\n",
    "    atoms\n",
    "\n",
    "    Returns\n",
    "    -------\n",
    "\n",
    "    \"\"\"\n",
    "    parts = name.split(\"_\")\n",
    "    np = len(parts)\n",
    "    na = len(atoms)\n",
    "    if np > 1 and parts[1].isdigit() and -1 < int(parts[1]) < na:\n",
    "        parts[1] = atoms[int(parts[1])].name\n",
    "        parts = parts[::-1]\n",
    "    return \"_\".join(parts)\n",
    "\n",
    "\n",
    "def _add_params_in_pg(recipe: FitRecipe, pg: PDFGenerator) -> None:\n",
    "    \"\"\"Add parameters in the PDFGenerator.\n",
    "\n",
    "    Parameters\n",
    "    ----------\n",
    "    recipe\n",
    "    pg\n",
    "\n",
    "    Returns\n",
    "    -------\n",
    "\n",
    "    \"\"\"\n",
    "    name: str = pg.name\n",
    "    recipe.addVar(\n",
    "        pg.scale,\n",
    "        name=_get_name(name, \"scale\"),\n",
    "        value=SCALE_I,\n",
    "        fixed=True,\n",
    "        tags=_get_tags(name, \"scale\")\n",
    "    ).boundRange(0.)\n",
    "    recipe.addVar(   #Here we add Qdamp as a variable\n",
    "        pg.qdamp,\n",
    "        name=_get_name(name, \"qdamp\"), \n",
    "        value=QDAMP_I, \n",
    "        fixed=True,\n",
    "        tags=_get_tags(name, \"qdamp\")\n",
    "    ).boundRange(0.)\n",
    "    recipe.addVar(   #Here we add Qbroad as a variable\n",
    "        pg.qbroad,\n",
    "        name=_get_name(name, \"qbroad\"), \n",
    "        value=QBROAD_I, \n",
    "        fixed=True,\n",
    "        tags=_get_tags(name, \"qbroad\")\n",
    "    ).boundRange(0.)    \n",
    "    recipe.addVar(\n",
    "        pg.delta2,\n",
    "        name=_get_name(name, \"delta2\"),\n",
    "        value=DELTA2_I,\n",
    "        fixed=True,\n",
    "        tags=_get_tags(name, \"delta2\")\n",
    "    ).boundRange(0.)\n",
    "    latpars = pg.phase.sgpars.latpars\n",
    "    for par in latpars:\n",
    "        recipe.addVar(\n",
    "            par,\n",
    "            name=_get_name(name, par.name),\n",
    "            fixed=True,\n",
    "            tags=_get_tags(name, \"lat\")\n",
    "        ).boundRange(0.)\n",
    "    atoms: typing.List[ParameterSet] = pg.phase.getScatterers()\n",
    "    for atom in atoms:\n",
    "        par = atom.Biso\n",
    "        recipe.addVar(\n",
    "            par,\n",
    "            name=_get_name(name, atom.name, \"Biso\"),\n",
    "            value=BISO_I,\n",
    "            fixed=True,\n",
    "            tags=_get_tags(name, \"adp\")\n",
    "        ).boundRange(0.)\n",
    "    xyzpars = pg.phase.sgpars.xyzpars\n",
    "    for par in xyzpars:\n",
    "        par_name = _rename_par(par.name, atoms)\n",
    "        recipe.addVar(\n",
    "            par,\n",
    "            name=_get_name(name, par_name),\n",
    "            fixed=True,\n",
    "            tags=_get_tags(name, \"xyz\")\n",
    "        )\n",
    "    return\n",
    "\n",
    "\n",
    "def _add_params_in_fc(\n",
    "        recipe: FitRecipe,\n",
    "        fc: FitContribution,\n",
    "        names: typing.List[str],\n",
    "        tags: typing.List[str]\n",
    ") -> None:\n",
    "    \"\"\"Add parameters in the FitContribution.\n",
    "\n",
    "    Parameters\n",
    "    ----------\n",
    "    recipe\n",
    "    fc\n",
    "    names\n",
    "    tags\n",
    "\n",
    "    Returns\n",
    "    -------\n",
    "\n",
    "    \"\"\"\n",
    "    for name in names:\n",
    "        par = getattr(fc, name)\n",
    "        recipe.addVar(\n",
    "            par,\n",
    "            value=100.,\n",
    "            fixed=True,\n",
    "            tags=tags\n",
    "        )\n",
    "    return\n",
    "\n",
    "\n",
    "def _initialize_recipe(\n",
    "        recipe: FitRecipe,\n",
    "        functions: typing.Dict[str, typing.Tuple[typing.Callable, typing.List[str]]],\n",
    "        crystals: typing.Dict[str, Crystal],\n",
    "        fc_name: str = \"PDF\"\n",
    ") -> None:\n",
    "    \"\"\"Initialize the FitRecipe object with variables.\n",
    "\n",
    "    The parameters are the scale of the PDF, the delta2 parameter in the correction of correlated motions,\n",
    "    the atomic displacement parameters (ADPs) of the symmetric unique atoms, the x, y, z positions of the\n",
    "    symmetric unique atoms under the constraint of the symmetry and the parameters in the functions registered\n",
    "    in the FitContribution.\n",
    "\n",
    "    Parameters\n",
    "    ----------\n",
    "    recipe\n",
    "    functions\n",
    "    crystals\n",
    "    fc_name\n",
    "\n",
    "    Returns\n",
    "    -------\n",
    "\n",
    "    \"\"\"\n",
    "    fc: FitContribution = getattr(recipe, fc_name)\n",
    "    for name, (_, argnames) in functions.items():\n",
    "        _add_params_in_fc(recipe, fc, argnames[1:], tags=[name])\n",
    "    for name in crystals.keys():\n",
    "        pg: PDFGenerator = getattr(fc, name)\n",
    "        _add_params_in_pg(recipe, pg)\n",
    "    recipe.clearFitHooks()\n",
    "    return\n",
    "\n",
    "\n",
    "def create_recipe_from_files(\n",
    "        equation: str,\n",
    "        cif_files: typing.Dict[str, str],\n",
    "        functions: typing.Dict[str, typing.Tuple[typing.Callable, typing.List[str]]],\n",
    "        data_file: typing.Dict[str, str],\n",
    "        meta_data: typing.Dict[str, typing.Union[str, int, float]] = None,\n",
    "        fc_name: str = \"PDF\"\n",
    ") -> FitRecipe:\n",
    "    \"\"\"Create the FitRecipe object.\n",
    "\n",
    "    Parameters\n",
    "    ----------\n",
    "    equation :\n",
    "        The equation of G(r).\n",
    "    cif_files :\n",
    "        A mapping from the name of variable in the equation to cif files of the crystal structure for PDF\n",
    "        calculation.\n",
    "    functions :\n",
    "        A mapping from the name of variable in the equation to the python function for PDF calculation.\n",
    "        The first argument of the function is the array of r, the other arguments are the parameters.\n",
    "    data_file :\n",
    "        The data file that be loaded into the data profile that contains both the metadata and the data.\n",
    "    meta_data :\n",
    "        Additional metadata to add into the data profile.\n",
    "    fc_name :\n",
    "        The name of the FitContribution in the FitRecipe. Default \"PDF\".\n",
    "\n",
    "    Returns\n",
    "    -------\n",
    "    A FitRecipe object.\n",
    "    \"\"\"\n",
    "    if meta_data is None:\n",
    "        meta_data = {}\n",
    "    crystals = {n: loadCrystal(f) for n, f in cif_files.items()}\n",
    "    pp = PDFParser()\n",
    "    pp.parseFile(data_file)\n",
    "    profile = Profile()\n",
    "    profile.loadParsedData(pp)\n",
    "    profile.meta.update(meta_data)\n",
    "    recipe = _create_recipe(equation, crystals, functions, profile, fc_name=fc_name)\n",
    "    _initialize_recipe(recipe, functions, crystals, fc_name=fc_name)\n",
    "    return recipe"
   ]
  },
  {
   "cell_type": "markdown",
   "id": "7",
   "metadata": {},
   "source": [
    "### Define Optimize function\n",
    "\n",
    "Here, the parameters in the FitRecipe are optimized with a least square regression. This helper function is not modified and you do not need to go through it."
   ]
  },
  {
   "cell_type": "code",
   "execution_count": null,
   "id": "8",
   "metadata": {},
   "outputs": [],
   "source": [
    "def optimize_params(\n",
    "        recipe: FitRecipe,\n",
    "        steps: typing.List[typing.List[str]],\n",
    "        rmin: float = None,\n",
    "        rmax: float = None,\n",
    "        rstep: float = None,\n",
    "        print_step: bool = True,\n",
    "        fc_name: str = \"PDF\",\n",
    "        **kwargs\n",
    ") -> None:\n",
    "    \"\"\"Optimize the parameters in the FitRecipe object using least square regression.\n",
    "\n",
    "    Parameters\n",
    "    ----------\n",
    "    recipe :\n",
    "        The FitRecipe object.\n",
    "    steps :\n",
    "        A list of lists of parameter names in the recipe. They will be free and refined one batch after another.\n",
    "        Usually, the scale, lattice should be refined before the APD and XYZ.\n",
    "    rmin :\n",
    "        The minimum r in the range for refinement. If None, use the minimum r in the data.\n",
    "    rmax :\n",
    "        The maximum r in the range for refinement. If None, use the maximum r in the data.\n",
    "    rstep :\n",
    "        The step of r in the range for refinement. If None, use the step of r in the data.\n",
    "    print_step :\n",
    "        If True, print out the refinement step. Default True.\n",
    "    fc_name :\n",
    "        The name of the FitContribution in the FitRecipe. Default \"PDF\".\n",
    "    kwargs :\n",
    "        The kwargs for the `scipy.optimize.least_square`.\n",
    "\n",
    "    Returns\n",
    "    -------\n",
    "    None.\n",
    "    \"\"\"\n",
    "    n = len(steps)\n",
    "    fc: FitContribution = getattr(recipe, fc_name)\n",
    "    p: Profile = fc.profile\n",
    "    p.setCalculationRange(xmin=rmin, xmax=rmax, dx=rstep)\n",
    "    for step in steps:\n",
    "        recipe.fix(*step)\n",
    "    for i, step in enumerate(steps):\n",
    "        recipe.free(*step)\n",
    "        if print_step:\n",
    "            print(\n",
    "                \"Step {} / {}: refine {}\".format(\n",
    "                    i + 1, n, \", \".join(recipe.getNames())\n",
    "                ),\n",
    "                end=\"\\r\"\n",
    "            )\n",
    "        least_squares(recipe.residual, recipe.getValues(), bounds=recipe.getBounds2(), **kwargs)\n",
    "    return\n"
   ]
  },
  {
   "cell_type": "markdown",
   "id": "9",
   "metadata": {},
   "source": [
    "### Define visualize fits\n",
    "This function will plot the data, the fit, and the difference curve. This is realized using the matplotlib.pyplot package. As this helper function is not modified, you do not need to go through it."
   ]
  },
  {
   "cell_type": "code",
   "execution_count": null,
   "id": "10",
   "metadata": {},
   "outputs": [],
   "source": [
    "def visualize_fits(recipe: FitRecipe, xlim: typing.Tuple = None, fc_name: str = \"PDF\") -> None:\n",
    "    \"\"\"Visualize the fits in the FitRecipe object.\n",
    "\n",
    "    Parameters\n",
    "    ----------\n",
    "    recipe :\n",
    "        The FitRecipe object.\n",
    "    xlim :\n",
    "        The boundary of the x to show in the plot.\n",
    "    fc_name :\n",
    "        The name of the FitContribution in the FitRecipe. Default \"PDF\".\n",
    "\n",
    "    Returns\n",
    "    -------\n",
    "    None.\n",
    "    \"\"\"\n",
    "    # get data\n",
    "    fc = getattr(recipe, fc_name)\n",
    "    r = fc.profile.x\n",
    "    g = fc.profile.y\n",
    "    gcalc = fc.profile.ycalc\n",
    "    if xlim is not None:\n",
    "        sel = np.logical_and(r >= xlim[0], r <= xlim[1])\n",
    "        r = r[sel]\n",
    "        g = g[sel]\n",
    "        gcalc = gcalc[sel]\n",
    "    gdiff = g - gcalc\n",
    "    diffzero = -0.8 * np.max(g) * np.ones_like(g)\n",
    "    # plot figure\n",
    "    _, ax = plt.subplots()\n",
    "    ax.plot(r, g, 'bo', label=\"G(r) Data\")\n",
    "    ax.plot(r, gcalc, 'r-', label=\"G(r) Fit\")\n",
    "    ax.plot(r, gdiff + diffzero, 'g-', label=\"G(r) Diff\")\n",
    "    ax.plot(r, diffzero, 'k-')\n",
    "    ax.set_xlabel(r\"$r (\\AA)$\")\n",
    "    ax.set_ylabel(r\"$G (\\AA^{-2})$\")\n",
    "    ax.legend(loc=1)\n",
    "    plt.show()\n",
    "    return"
   ]
  },
  {
   "cell_type": "markdown",
   "id": "11",
   "metadata": {},
   "source": [
    "### Save results in files\n",
    "This helper function will save optimized FitRecipe to a specified path. This function is not modified and you do not need to go through it."
   ]
  },
  {
   "cell_type": "code",
   "execution_count": null,
   "id": "12",
   "metadata": {},
   "outputs": [],
   "source": [
    "def save_results(\n",
    "        recipe: FitRecipe,\n",
    "        directory: str,\n",
    "        file_stem: str,\n",
    "        pg_names: typing.List[str] = None,\n",
    "        fc_name: str = \"PDF\"\n",
    ") -> None:\n",
    "    \"\"\"Save the parameters, fits and structures in the FitRecipe object.\n",
    "\n",
    "    Parameters\n",
    "    ----------\n",
    "    recipe :\n",
    "        The FitRecipe object.\n",
    "    directory :\n",
    "        The directory to output the files.\n",
    "    file_stem :\n",
    "        The stem of the filename.\n",
    "    pg_names :\n",
    "        The name of the PDFGenerators (it will also be the name of the structures) to save. If None, not to save.\n",
    "    fc_name\n",
    "        The name of the FitContribution in the FitRecipe. Default \"PDF\".\n",
    "    Returns\n",
    "    -------\n",
    "    None.\n",
    "    \"\"\"\n",
    "    d_path = Path(directory)\n",
    "    d_path.mkdir(parents=True, exist_ok=True)\n",
    "    f_path = d_path.joinpath(file_stem)\n",
    "    fr = FitResults(recipe)\n",
    "    fr.saveResults(str(f_path.with_suffix(\".res\")))\n",
    "    fc: FitContribution = getattr(recipe, fc_name)\n",
    "    profile: Profile = fc.profile\n",
    "    profile.savetxt(str(f_path.with_suffix(\".fgr\")))\n",
    "    if pg_names is not None:\n",
    "        for pg_name in pg_names:\n",
    "            pg: PDFGenerator = getattr(fc, pg_name)\n",
    "            stru: Crystal = pg.stru\n",
    "            cif_path = f_path.with_name(\n",
    "                \"{}_{}\".format(f_path.stem, pg_name)\n",
    "            ).with_suffix(\".cif\")\n",
    "            with cif_path.open(\"w\") as f:\n",
    "                stru.CIFOutput(f)\n",
    "    return"
   ]
  },
  {
   "cell_type": "markdown",
   "id": "13",
   "metadata": {},
   "source": [
    "## Determine Q$_{damp}$ and Q$_{broad}$ from Ni standard\n",
    "### Import data\n",
    "We specify the path for our data files. If your directory structure follows the one from the pdfttp_data, this will be two directories up in a folder called data. The PDF file will have the .gr extension while the structure file will have a .cif extension. "
   ]
  },
  {
   "cell_type": "code",
   "execution_count": null,
   "id": "14",
   "metadata": {},
   "outputs": [],
   "source": [
    "DPATH = '../../data/'\n",
    "\n",
    "GR_FILE = DPATH + 'Ni.gr'\n",
    "CIF_FILE = DPATH + 'Ni.cif'"
   ]
  },
  {
   "cell_type": "markdown",
   "id": "15",
   "metadata": {},
   "source": [
    "### Initial values\n",
    "\n",
    "We define initial guess values to use in our recipe."
   ]
  },
  {
   "cell_type": "code",
   "execution_count": null,
   "id": "16",
   "metadata": {},
   "outputs": [],
   "source": [
    "SCALE_I = 0.4\n",
    "BISO_I = 0.02\n",
    "DELTA2_I = 2\n",
    "QDAMP_I = 0.04\n",
    "QBROAD_I = 0.02"
   ]
  },
  {
   "cell_type": "markdown",
   "id": "17",
   "metadata": {},
   "source": [
    "### Fit Ni - short range\n",
    "We create our recipe, which is easily done with the helper function we defined. The function needs a model, the structure files, functions used in the model if any, and the data file.\\\n",
    "Here, our model is \"Ni\", which is the crystal structure we imported above. For the Ni calibrant we have no additional functions, and we just need to input the PDF data file to finish our recipe.\\\n",
    "When our recipe is made, we can show its parameters by typing recipe.show(). "
   ]
  },
  {
   "cell_type": "code",
   "execution_count": null,
   "id": "18",
   "metadata": {},
   "outputs": [],
   "source": [
    "recipe = create_recipe_from_files(\n",
    "    \"Ni\",\n",
    "    cif_files={\"Ni\": CIF_FILE},\n",
    "    functions={},\n",
    "    data_file=GR_FILE,\n",
    ")"
   ]
  },
  {
   "cell_type": "code",
   "execution_count": null,
   "id": "19",
   "metadata": {},
   "outputs": [],
   "source": [
    "recipe.show()"
   ]
  },
  {
   "cell_type": "markdown",
   "id": "20",
   "metadata": {},
   "source": [
    "We optimize our recipe with the optimize_params helper function. This is done in two steps, first the scale and lattice parameters are refined, next the ADPs, Qdamp, and delta2. We will first do the optimization in the local r-range, i.e. from 1.5 Å to 20 Å."
   ]
  },
  {
   "cell_type": "code",
   "execution_count": null,
   "id": "21",
   "metadata": {},
   "outputs": [],
   "source": [
    "optimize_params(\n",
    "    recipe,\n",
    "    [\n",
    "        [\"Ni_scale\", \"Ni_lat\"], \n",
    "        [\"Ni_adp\", 'Ni_qdamp',\"Ni_delta2\"]\n",
    "    ],\n",
    "    rmin=1.5,\n",
    "    rmax=20.0,\n",
    "    ftol=1e-4\n",
    ")"
   ]
  },
  {
   "cell_type": "markdown",
   "id": "22",
   "metadata": {},
   "source": [
    "We can look at our fits by using the visualize_fits helper functions. This will plot our refinement. "
   ]
  },
  {
   "cell_type": "code",
   "execution_count": null,
   "id": "23",
   "metadata": {},
   "outputs": [],
   "source": [
    "visualize_fits(recipe)"
   ]
  },
  {
   "cell_type": "markdown",
   "id": "24",
   "metadata": {},
   "source": [
    "Finally, when we are satisfied with the fit, we can save the results from our refined recipe with the save_results helper function. We will save this in a folder Results/Ni and name our fit \"Ni_short_r\". This function will save a .fgr, .res, and .cif file."
   ]
  },
  {
   "cell_type": "code",
   "execution_count": null,
   "id": "25",
   "metadata": {},
   "outputs": [],
   "source": [
    "save_results(recipe, \"Results/Ni\", \"Ni_short_r\", [\"Ni\"])"
   ]
  },
  {
   "cell_type": "markdown",
   "id": "26",
   "metadata": {},
   "source": [
    "We can open the .res file, which contain the residuals of the fit and the optimized parameters. "
   ]
  },
  {
   "cell_type": "code",
   "execution_count": null,
   "id": "27",
   "metadata": {},
   "outputs": [],
   "source": [
    "!cat \"./Results/Ni/Ni_short_r.res\""
   ]
  },
  {
   "cell_type": "markdown",
   "id": "28",
   "metadata": {},
   "source": [
    "### Fit Ni - full range\n",
    "When we have a good fit for our data in a small range, we can increase the fit to the whole range. We will use the initializeRecipe function from diffpy to load the refined parameter values from the short range fit. "
   ]
  },
  {
   "cell_type": "code",
   "execution_count": null,
   "id": "29",
   "metadata": {},
   "outputs": [],
   "source": [
    "recipe = create_recipe_from_files(\n",
    "    \"Ni\",\n",
    "    cif_files={\"Ni\": CIF_FILE},\n",
    "    functions={},\n",
    "    data_file=GR_FILE,\n",
    ")\n",
    "\n",
    "from diffpy.srfit.fitbase.fitresults import initializeRecipe\n",
    "\n",
    "initializeRecipe(recipe, \"./Results/Ni/Ni_short_r.res\")"
   ]
  },
  {
   "cell_type": "markdown",
   "id": "30",
   "metadata": {},
   "source": [
    "We do the optimization as above, but now we include the Q$_{broad}$ parameter."
   ]
  },
  {
   "cell_type": "code",
   "execution_count": null,
   "id": "31",
   "metadata": {},
   "outputs": [],
   "source": [
    "optimize_params(\n",
    "    recipe,\n",
    "    [\n",
    "        [\"Ni_scale\", \"Ni_lat\"], \n",
    "        [\"Ni_adp\", 'Ni_qdamp',\"Ni_delta2\"],\n",
    "        ['Ni_qbroad']\n",
    "    ],\n",
    "    rmin=1.6,\n",
    "    rmax=50.0,\n",
    "    ftol=1e-4\n",
    ")"
   ]
  },
  {
   "cell_type": "code",
   "execution_count": null,
   "id": "32",
   "metadata": {},
   "outputs": [],
   "source": [
    "visualize_fits(recipe)"
   ]
  },
  {
   "cell_type": "code",
   "execution_count": null,
   "id": "33",
   "metadata": {},
   "outputs": [],
   "source": [
    "save_results(recipe, \"Results/Ni\", \"Ni_full_r\", [\"Ni\"])"
   ]
  },
  {
   "cell_type": "markdown",
   "id": "34",
   "metadata": {},
   "source": [
    "We want to save the refined values of the instrumental parameters, 'qdamp' and 'qbroad' so we can use them in our Pt fit."
   ]
  },
  {
   "cell_type": "code",
   "execution_count": null,
   "id": "35",
   "metadata": {},
   "outputs": [],
   "source": [
    "for index,name in enumerate(recipe.names):\n",
    "    if 'qdamp' in name:\n",
    "        QDAMP_Ni = recipe.values[index]\n",
    "    if 'qbroad' in name:\n",
    "        QBROAD_Ni = recipe.values[index]\n",
    "\n",
    "print(f\" From the refinement of the Ni calibrant qdamp = {QDAMP_Ni:.4f}, and qbroad = {QBROAD_Ni:.4f}\")"
   ]
  },
  {
   "cell_type": "markdown",
   "id": "36",
   "metadata": {},
   "source": [
    "## Pt NPs\n",
    "\n",
    "We import the data and structure files."
   ]
  },
  {
   "cell_type": "code",
   "execution_count": null,
   "id": "37",
   "metadata": {},
   "outputs": [],
   "source": [
    "GR_FILE_Pt = DPATH + 'Pt-nanoparticles.gr'\n",
    "CIF_FILE_Pt = DPATH + 'Pt.cif'"
   ]
  },
  {
   "cell_type": "markdown",
   "id": "38",
   "metadata": {},
   "source": [
    "We create our recipe. Because we now have nanoparticles, the model will be the crystal structure of Pt multiplied with a spherical characteristic function that will damp the PDF. "
   ]
  },
  {
   "cell_type": "code",
   "execution_count": null,
   "id": "39",
   "metadata": {},
   "outputs": [],
   "source": [
    "recipe = create_recipe_from_files(\n",
    "    \"sphere * Pt\",\n",
    "    cif_files={\"Pt\": CIF_FILE_Pt},\n",
    "    functions={\"sphere\": (F.sphericalCF, [\"r\", \"Pt_size\"])},\n",
    "    data_file=GR_FILE_Pt,\n",
    ")"
   ]
  },
  {
   "cell_type": "markdown",
   "id": "40",
   "metadata": {},
   "source": [
    "We define the values of QDAMP and QBROAD to the refined ones from the Ni calibrant. "
   ]
  },
  {
   "cell_type": "code",
   "execution_count": null,
   "id": "41",
   "metadata": {},
   "outputs": [],
   "source": [
    "recipe.Pt_qdamp.setValue(QDAMP_Ni)\n",
    "recipe.Pt_qbroad.setValue(QBROAD_Ni)"
   ]
  },
  {
   "cell_type": "code",
   "execution_count": null,
   "id": "42",
   "metadata": {},
   "outputs": [],
   "source": [
    "recipe.show()"
   ]
  },
  {
   "cell_type": "markdown",
   "id": "43",
   "metadata": {},
   "source": [
    "We perform the refinement by optimizing as for Ni, but now we will also refine the new parameter \"Pt_size\", the size of the nanoparticles."
   ]
  },
  {
   "cell_type": "code",
   "execution_count": null,
   "id": "44",
   "metadata": {},
   "outputs": [],
   "source": [
    "optimize_params(\n",
    "    recipe,\n",
    "    [\n",
    "        [\"Pt_scale\", \"Pt_lat\"], \n",
    "        [\"Pt_adp\", \"Pt_delta2\"], \n",
    "        [\"Pt_size\"]\n",
    "    ],\n",
    "    rmin=1.6,\n",
    "    rmax=20.0,\n",
    "    ftol=1e-4\n",
    ")"
   ]
  },
  {
   "cell_type": "code",
   "execution_count": null,
   "id": "45",
   "metadata": {},
   "outputs": [],
   "source": [
    "visualize_fits(recipe)"
   ]
  },
  {
   "cell_type": "code",
   "execution_count": null,
   "id": "46",
   "metadata": {},
   "outputs": [],
   "source": [
    "save_results(recipe, \"Results/Pt\", \"Pt_short_r\", [\"Pt\"])"
   ]
  },
  {
   "cell_type": "code",
   "execution_count": null,
   "id": "47",
   "metadata": {},
   "outputs": [],
   "source": [
    "!cat \"./Results/Pt/Pt_short_r.res\""
   ]
  },
  {
   "cell_type": "markdown",
   "id": "48",
   "metadata": {},
   "source": [
    "### Pt Full range fit\n",
    "We extend the fitting range and repeat the procedure of creating our recipe, optimizing, visualizing and saving the results."
   ]
  },
  {
   "cell_type": "code",
   "execution_count": null,
   "id": "49",
   "metadata": {},
   "outputs": [],
   "source": [
    "recipe = create_recipe_from_files(\n",
    "    \"sphere * Pt\",\n",
    "    cif_files={\"Pt\": CIF_FILE_Pt},\n",
    "    functions={\"sphere\": (F.sphericalCF, [\"r\", \"Pt_size\"])},\n",
    "    data_file=GR_FILE_Pt\n",
    ")\n",
    "\n",
    "\n",
    "initializeRecipe(recipe, \"./Results/Pt/Pt_short_r.res\")\n",
    "\n",
    "optimize_params(\n",
    "    recipe,\n",
    "    [\n",
    "        [\"Pt_scale\", \"Pt_lat\"], \n",
    "        [\"Pt_adp\", \"Pt_delta2\"], \n",
    "        [\"Pt_size\"]\n",
    "    ],\n",
    "    rmin=1.6,\n",
    "    rmax=50,\n",
    "    ftol=1e-4\n",
    ")"
   ]
  },
  {
   "cell_type": "code",
   "execution_count": null,
   "id": "50",
   "metadata": {},
   "outputs": [],
   "source": [
    "visualize_fits(recipe)"
   ]
  },
  {
   "cell_type": "code",
   "execution_count": null,
   "id": "51",
   "metadata": {},
   "outputs": [],
   "source": [
    "save_results(recipe, \"Results/Pt\", \"Pt_full_r\", [\"Pt\"])"
   ]
  },
  {
   "cell_type": "markdown",
   "id": "52",
   "metadata": {},
   "source": [
    "We print the results of the fitting:"
   ]
  },
  {
   "cell_type": "code",
   "execution_count": null,
   "id": "53",
   "metadata": {},
   "outputs": [],
   "source": [
    "!cat \"./Results/Pt/Pt_full_r.res\""
   ]
  },
  {
   "cell_type": "markdown",
   "id": "54",
   "metadata": {},
   "source": [
    "# Import the helper functions from python module\n",
    "\n",
    "Instead of having to copy the helper functions into our jupyter notebook as we did in the beginning, we can load them in from a python module and just call them when we need. We have saved all the helper functions in the python module \"helper_functions.py\", located in the same folder as this notebook. This module is imported."
   ]
  },
  {
   "cell_type": "code",
   "execution_count": null,
   "id": "55",
   "metadata": {},
   "outputs": [],
   "source": [
    "import helper_functions"
   ]
  },
  {
   "cell_type": "markdown",
   "id": "56",
   "metadata": {},
   "source": [
    "To run any of the helper functions we have to write \"helper_functions.\" in front of the function we want to import. This makes it possible to run all the same functions as before, e.g. the create_recipe_from_files, the optimize_params, and the visualize_fits."
   ]
  },
  {
   "cell_type": "code",
   "execution_count": null,
   "id": "57",
   "metadata": {},
   "outputs": [],
   "source": [
    "recipe = helper_functions.create_recipe_from_files(\n",
    "    \"Ni\",\n",
    "    cif_files={\"Ni\": CIF_FILE},\n",
    "    functions={},\n",
    "    data_file=GR_FILE,\n",
    ")\n",
    "\n",
    "helper_functions.optimize_params(\n",
    "    recipe,\n",
    "    [\n",
    "        [\"Ni_scale\", \"Ni_lat\"], \n",
    "        [\"Ni_adp\", 'Ni_qdamp',\"Ni_delta2\"]\n",
    "    ],\n",
    "    rmin=1.5,\n",
    "    rmax=20.0,\n",
    "    ftol=1e-4\n",
    ")\n",
    "\n",
    "helper_functions.visualize_fits(recipe)"
   ]
  },
  {
   "cell_type": "markdown",
   "id": "58",
   "metadata": {},
   "source": [
    "If you need to make changes to one of the helper functions it has to be copied into the notebook, but for the helper functions that are not modified, importing them this way saves lines in the code and make it cleaner."
   ]
  }
 ],
 "metadata": {
  "kernelspec": {
   "display_name": "py37",
   "language": "python",
   "name": "py37"
  },
  "language_info": {
   "codemirror_mode": {
    "name": "ipython",
    "version": 3
   },
   "file_extension": ".py",
   "mimetype": "text/x-python",
   "name": "python",
   "nbconvert_exporter": "python",
   "pygments_lexer": "ipython3",
   "version": "3.7.13"
  }
 },
 "nbformat": 4,
 "nbformat_minor": 5
}
